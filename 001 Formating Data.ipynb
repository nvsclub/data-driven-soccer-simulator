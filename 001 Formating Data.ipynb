{
 "metadata": {
  "language_info": {
   "codemirror_mode": {
    "name": "ipython",
    "version": 3
   },
   "file_extension": ".py",
   "mimetype": "text/x-python",
   "name": "python",
   "nbconvert_exporter": "python",
   "pygments_lexer": "ipython3",
   "version": "3.8.6-final"
  },
  "orig_nbformat": 2,
  "kernelspec": {
   "name": "python3",
   "display_name": "Python 3.8.6 64-bit",
   "metadata": {
    "interpreter": {
     "hash": "2b9185f3e54c11b8d53d8a03bd3140084c0e44d2e51331e03f14237367078142"
    }
   }
  }
 },
 "nbformat": 4,
 "nbformat_minor": 2,
 "cells": [
  {
   "source": [
    "# Imports"
   ],
   "cell_type": "markdown",
   "metadata": {}
  },
  {
   "cell_type": "code",
   "execution_count": 1,
   "metadata": {},
   "outputs": [],
   "source": [
    "import lib.draw as draw\n",
    "import matplotlib.pyplot as plt\n",
    "\n",
    "import numpy as np\n",
    "import pandas as pd\n",
    "import scipy\n",
    "import json\n",
    "import glob\n",
    "\n",
    "from tqdm import tqdm"
   ]
  },
  {
   "source": [
    "# Loading all files"
   ],
   "cell_type": "markdown",
   "metadata": {}
  },
  {
   "cell_type": "code",
   "execution_count": 2,
   "metadata": {},
   "outputs": [
    {
     "output_type": "stream",
     "name": "stderr",
     "text": [
      "100%|██████████| 306/306 [00:13<00:00, 22.53it/s]\n"
     ]
    }
   ],
   "source": [
    "all_files = glob.glob('data/json/*.json')\n",
    "all_games = []\n",
    "for f in tqdm(all_files):\n",
    "    all_games.append(json.load(open(f)))"
   ]
  },
  {
   "source": [
    "# Data processing pipeline\n",
    "Iterate all games and return table with all events from every game"
   ],
   "cell_type": "markdown",
   "metadata": {}
  },
  {
   "cell_type": "code",
   "execution_count": 3,
   "metadata": {},
   "outputs": [
    {
     "output_type": "stream",
     "name": "stderr",
     "text": [
      "100%|██████████| 306/306 [00:02<00:00, 132.04it/s]\n"
     ]
    }
   ],
   "source": [
    "data_li = []\n",
    "for game in tqdm(all_games):\n",
    "    # Get all game events\n",
    "    events = game['events']\n",
    "    # Process all events\n",
    "    for i in range(len(game['events'])):\n",
    "        # Filter only relevant events for the simulator\n",
    "        if events[i]['type']['displayName'] in ['CrossNotClaimed','Goal','MissedShots','OffsidePass','Pass','SavedShot','ShotOnPost','TakeOn']:\n",
    "            # Retrieve base information\n",
    "            attr_type = events[i]['type']['displayName']\n",
    "            attr_player = events[i]['playerId']\n",
    "            attr_team = events[i]['teamId']\n",
    "            attr_success = events[i]['outcomeType']['value']\n",
    "            attr_x = events[i]['x'] / 100 # Normalize between 0-1\n",
    "            attr_y = events[i]['y'] / 100\n",
    "\n",
    "            # Retrieve information that is only available in certain events\n",
    "            if 'endX' in events[i]:\n",
    "                attr_endX = events[i]['endX'] / 100\n",
    "                attr_endY = events[i]['endY'] / 100\n",
    "            else:\n",
    "                attr_endX = events[i]['x'] / 100\n",
    "                attr_endY = events[i]['y'] / 100\n",
    "            if 'isShot' in events[i].keys():\n",
    "                attr_isShot = True\n",
    "            else:\n",
    "                attr_isShot = False\n",
    "            if 'isGoal' in events[i].keys():\n",
    "                attr_isGoal = True\n",
    "            else:\n",
    "                attr_isGoal = False\n",
    "\n",
    "            # Retrieve qualifier information about the event\n",
    "            qualifiers = []\n",
    "            for qualifier in events[i]['qualifiers']:\n",
    "                qualifiers.append(qualifier['type']['displayName'])\n",
    "            attr_rightFoot = 'RightFoot' in qualifiers\n",
    "            attr_leftFoot = 'LeftFoot' in qualifiers\n",
    "            attr_header = 'Head' in qualifiers\n",
    "            attr_headPass = 'HeadPass' in qualifiers\n",
    "            attr_blocked = 'Blocked' in qualifiers\n",
    "            attr_blockedCross = 'BlockedCross' in qualifiers\n",
    "            attr_chipped = 'Chipped' in qualifiers\n",
    "            attr_cross = 'Cross' in qualifiers\n",
    "            attr_layOff = 'LayOff' in qualifiers\n",
    "            attr_regularPlay = 'RegularPlay' in qualifiers\n",
    "    \n",
    "            attr_cornerTaken = 'CornerTaken' in qualifiers\n",
    "            attr_directFK = 'DirectFreekick' in qualifiers\n",
    "            attr_FK = 'FreekickTaken' in qualifiers\n",
    "            attr_corner = 'FromCorner' in qualifiers\n",
    "            attr_goalKick = 'GoalKick' in qualifiers\n",
    "            attr_indirectFK = 'IndirectFreekickTaken' in qualifiers\n",
    "            attr_ownGoal = 'OwnGoal' in qualifiers\n",
    "            attr_setPiece = 'SetPiece' in qualifiers\n",
    "            attr_throwIn = 'ThrowIn' in qualifiers\n",
    "            \n",
    "            # If not a set piece\n",
    "            if not attr_cornerTaken and not attr_directFK and not attr_FK and not attr_corner and not attr_goalKick and not attr_indirectFK and not attr_ownGoal and not attr_setPiece and not attr_throwIn:\n",
    "                # Retrieve information for rebound\n",
    "                attr_xrebound, attr_yrebound = attr_x, attr_y\n",
    "                attr_rebound = False\n",
    "                if not attr_success:\n",
    "                    if not (type(attr_endX) is str or type(attr_endY) is str):\n",
    "                        if (attr_endX > 0) and (attr_endY > 0) and (attr_endX < 100) and (attr_endY < 100):\n",
    "                            for j in range(1,5):\n",
    "                                if events[i+j]['teamId'] == attr_team:\n",
    "                                    attr_rebound += 1\n",
    "                                    if (attr_xrebound == attr_x) and (attr_yrebound == attr_y):\n",
    "                                        attr_xrebound = events[i+j]['x'] / 100\n",
    "                                        attr_yrebound = events[i+j]['y'] / 100\n",
    "                            attr_rebound = attr_rebound >= 1\n",
    "                \n",
    "                # Retrieve information about the dribble\n",
    "                attr_xdribble, attr_ydribble = attr_x, attr_y\n",
    "                attr_toFoul = False\n",
    "                if (attr_type == 'TakeOn') and attr_success:\n",
    "                    for j in range(1,5):\n",
    "                        if events[i+j]['teamId'] == attr_team:\n",
    "                            attr_xdribble = events[i+j]['x'] / 100\n",
    "                            attr_ydribble = events[i+j]['y'] / 100\n",
    "                            break\n",
    "                    for j in range(1,3):\n",
    "                        if events[i+j]['type']['displayName'] == 'Foul':\n",
    "                            attr_toFoul = True\n",
    "                elif (attr_type == 'TakeOn'):\n",
    "                    if j == 4 and attr_xdribble == attr_x:\n",
    "                        attr_xdribble = events[i+2]['x'] / 100\n",
    "                        attr_ydribble = events[i+2]['y'] / 100\n",
    "                \n",
    "                # Retrieve information on if the shot ended up in a corner\n",
    "                attr_toCorner = False\n",
    "                if (attr_type in ['SavedShot', 'MissedShots', 'ShotOnPost']):\n",
    "                    for j in range(1,2):\n",
    "                        if events[i]['type']['displayName'] == 'CornerAwarded':\n",
    "                            attr_toCorner = True\n",
    "\n",
    "                # Append to list in order to concat\n",
    "                data_li.append([attr_type, attr_player, attr_team, attr_success, attr_x, attr_y, attr_endX, attr_endY, attr_isShot, attr_isGoal, attr_rightFoot, attr_leftFoot, attr_header, attr_headPass, attr_blocked, attr_blockedCross, attr_chipped, attr_cross, attr_layOff, attr_regularPlay, attr_rebound, attr_xrebound, attr_yrebound, attr_xdribble, attr_ydribble, attr_toFoul, attr_toCorner])"
   ]
  },
  {
   "source": [
    "# Converting to data frame"
   ],
   "cell_type": "markdown",
   "metadata": {}
  },
  {
   "cell_type": "code",
   "execution_count": 4,
   "metadata": {},
   "outputs": [],
   "source": [
    "df = pd.DataFrame(data_li, columns=['type', 'player', 'team', 'success', 'x', 'y', 'endX', 'endY', 'isShot', 'isGoal', 'rightFoot', 'leftFoot', 'header', 'headPass', 'blocked', 'blockedCross', 'chipped', 'cross', 'layOff', 'regularPlay', 'rebound', 'xrebound', 'yrebound', 'xdribble', 'ydribble', 'toFoul', 'toCorner'])"
   ]
  },
  {
   "source": [
    "# Adding polar coordinate system to the variables"
   ],
   "cell_type": "markdown",
   "metadata": {}
  },
  {
   "cell_type": "code",
   "execution_count": 5,
   "metadata": {},
   "outputs": [],
   "source": [
    "df['r'] = np.sqrt((df.endX - df.x) ** 2 + (df.endY - df.y) ** 2)\n",
    "df['a'] = np.arctan2(df.endY - df.y, df.endX - df.x) / (2 * np.pi) + 0.5\n",
    "df['rebound_r'] = np.sqrt((df.xrebound - df.x) ** 2 + (df.yrebound - df.y) ** 2)\n",
    "df['rebound_a'] = np.arctan2(df.yrebound - df.y, df.xrebound - df.x) / (2 * np.pi) + 0.5\n",
    "df['dribble_r'] = np.sqrt((df.xdribble - df.x) ** 2 + (df.ydribble - df.y) ** 2)\n",
    "df['dribble_a'] = np.arctan2(df.ydribble - df.y, df.xdribble - df.x) / (2 * np.pi) + 0.5"
   ]
  },
  {
   "cell_type": "code",
   "execution_count": 6,
   "metadata": {},
   "outputs": [
    {
     "output_type": "execute_result",
     "data": {
      "text/plain": [
       "        type  player  team  success      x      y   endX   endY  isShot  \\\n",
       "0       Pass  322852  2187        1  0.501  0.519  0.373  0.572   False   \n",
       "1       Pass   83556  2187        1  0.372  0.573  0.319  0.790   False   \n",
       "2       Pass  137387  2187        1  0.333  0.766  0.243  0.597   False   \n",
       "3       Pass  322847  2187        1  0.253  0.678  0.280  0.321   False   \n",
       "4       Pass  322849  2187        0  0.365  0.114  0.886  0.000   False   \n",
       "...      ...     ...   ...      ...    ...    ...    ...    ...     ...   \n",
       "243770  Pass   90310   297        1  0.686  0.210  0.663  0.374   False   \n",
       "243771  Pass   94891   297        1  0.652  0.458  0.680  0.875   False   \n",
       "243772  Pass  125793   297        0  0.692  0.947  0.961  0.555   False   \n",
       "243773  Pass   32381   108        0  0.150  0.484  0.727  0.603   False   \n",
       "243774  Pass  291653   108        1  0.622  0.400  0.680  0.581   False   \n",
       "\n",
       "        isGoal  ...  xdribble  ydribble  toFoul  toCorner         r         a  \\\n",
       "0        False  ...     0.501     0.519   False     False  0.138539  0.937521   \n",
       "1        False  ...     0.372     0.573   False     False  0.223379  0.788126   \n",
       "2        False  ...     0.333     0.766   False     False  0.191471  0.172119   \n",
       "3        False  ...     0.253     0.678   False     False  0.358020  0.262014   \n",
       "4        False  ...     0.365     0.114   False     False  0.533326  0.465716   \n",
       "...        ...  ...       ...       ...     ...       ...       ...       ...   \n",
       "243770   False  ...     0.686     0.210   False     False  0.165605  0.772176   \n",
       "243771   False  ...     0.652     0.458   False     False  0.417939  0.739329   \n",
       "243772   False  ...     0.692     0.947   False     False  0.475421  0.345719   \n",
       "243773   False  ...     0.150     0.484   False     False  0.589143  0.532370   \n",
       "243774   False  ...     0.622     0.400   False     False  0.190066  0.700645   \n",
       "\n",
       "        rebound_r  rebound_a  dribble_r  dribble_a  \n",
       "0        0.000000   0.500000        0.0        0.5  \n",
       "1        0.000000   0.500000        0.0        0.5  \n",
       "2        0.000000   0.500000        0.0        0.5  \n",
       "3        0.000000   0.500000        0.0        0.5  \n",
       "4        0.000000   0.500000        0.0        0.5  \n",
       "...           ...        ...        ...        ...  \n",
       "243770   0.000000   0.500000        0.0        0.5  \n",
       "243771   0.000000   0.500000        0.0        0.5  \n",
       "243772   0.611485   0.144929        0.0        0.5  \n",
       "243773   0.479416   0.471969        0.0        0.5  \n",
       "243774   0.000000   0.500000        0.0        0.5  \n",
       "\n",
       "[243775 rows x 33 columns]"
      ],
      "text/html": "<div>\n<style scoped>\n    .dataframe tbody tr th:only-of-type {\n        vertical-align: middle;\n    }\n\n    .dataframe tbody tr th {\n        vertical-align: top;\n    }\n\n    .dataframe thead th {\n        text-align: right;\n    }\n</style>\n<table border=\"1\" class=\"dataframe\">\n  <thead>\n    <tr style=\"text-align: right;\">\n      <th></th>\n      <th>type</th>\n      <th>player</th>\n      <th>team</th>\n      <th>success</th>\n      <th>x</th>\n      <th>y</th>\n      <th>endX</th>\n      <th>endY</th>\n      <th>isShot</th>\n      <th>isGoal</th>\n      <th>...</th>\n      <th>xdribble</th>\n      <th>ydribble</th>\n      <th>toFoul</th>\n      <th>toCorner</th>\n      <th>r</th>\n      <th>a</th>\n      <th>rebound_r</th>\n      <th>rebound_a</th>\n      <th>dribble_r</th>\n      <th>dribble_a</th>\n    </tr>\n  </thead>\n  <tbody>\n    <tr>\n      <th>0</th>\n      <td>Pass</td>\n      <td>322852</td>\n      <td>2187</td>\n      <td>1</td>\n      <td>0.501</td>\n      <td>0.519</td>\n      <td>0.373</td>\n      <td>0.572</td>\n      <td>False</td>\n      <td>False</td>\n      <td>...</td>\n      <td>0.501</td>\n      <td>0.519</td>\n      <td>False</td>\n      <td>False</td>\n      <td>0.138539</td>\n      <td>0.937521</td>\n      <td>0.000000</td>\n      <td>0.500000</td>\n      <td>0.0</td>\n      <td>0.5</td>\n    </tr>\n    <tr>\n      <th>1</th>\n      <td>Pass</td>\n      <td>83556</td>\n      <td>2187</td>\n      <td>1</td>\n      <td>0.372</td>\n      <td>0.573</td>\n      <td>0.319</td>\n      <td>0.790</td>\n      <td>False</td>\n      <td>False</td>\n      <td>...</td>\n      <td>0.372</td>\n      <td>0.573</td>\n      <td>False</td>\n      <td>False</td>\n      <td>0.223379</td>\n      <td>0.788126</td>\n      <td>0.000000</td>\n      <td>0.500000</td>\n      <td>0.0</td>\n      <td>0.5</td>\n    </tr>\n    <tr>\n      <th>2</th>\n      <td>Pass</td>\n      <td>137387</td>\n      <td>2187</td>\n      <td>1</td>\n      <td>0.333</td>\n      <td>0.766</td>\n      <td>0.243</td>\n      <td>0.597</td>\n      <td>False</td>\n      <td>False</td>\n      <td>...</td>\n      <td>0.333</td>\n      <td>0.766</td>\n      <td>False</td>\n      <td>False</td>\n      <td>0.191471</td>\n      <td>0.172119</td>\n      <td>0.000000</td>\n      <td>0.500000</td>\n      <td>0.0</td>\n      <td>0.5</td>\n    </tr>\n    <tr>\n      <th>3</th>\n      <td>Pass</td>\n      <td>322847</td>\n      <td>2187</td>\n      <td>1</td>\n      <td>0.253</td>\n      <td>0.678</td>\n      <td>0.280</td>\n      <td>0.321</td>\n      <td>False</td>\n      <td>False</td>\n      <td>...</td>\n      <td>0.253</td>\n      <td>0.678</td>\n      <td>False</td>\n      <td>False</td>\n      <td>0.358020</td>\n      <td>0.262014</td>\n      <td>0.000000</td>\n      <td>0.500000</td>\n      <td>0.0</td>\n      <td>0.5</td>\n    </tr>\n    <tr>\n      <th>4</th>\n      <td>Pass</td>\n      <td>322849</td>\n      <td>2187</td>\n      <td>0</td>\n      <td>0.365</td>\n      <td>0.114</td>\n      <td>0.886</td>\n      <td>0.000</td>\n      <td>False</td>\n      <td>False</td>\n      <td>...</td>\n      <td>0.365</td>\n      <td>0.114</td>\n      <td>False</td>\n      <td>False</td>\n      <td>0.533326</td>\n      <td>0.465716</td>\n      <td>0.000000</td>\n      <td>0.500000</td>\n      <td>0.0</td>\n      <td>0.5</td>\n    </tr>\n    <tr>\n      <th>...</th>\n      <td>...</td>\n      <td>...</td>\n      <td>...</td>\n      <td>...</td>\n      <td>...</td>\n      <td>...</td>\n      <td>...</td>\n      <td>...</td>\n      <td>...</td>\n      <td>...</td>\n      <td>...</td>\n      <td>...</td>\n      <td>...</td>\n      <td>...</td>\n      <td>...</td>\n      <td>...</td>\n      <td>...</td>\n      <td>...</td>\n      <td>...</td>\n      <td>...</td>\n      <td>...</td>\n    </tr>\n    <tr>\n      <th>243770</th>\n      <td>Pass</td>\n      <td>90310</td>\n      <td>297</td>\n      <td>1</td>\n      <td>0.686</td>\n      <td>0.210</td>\n      <td>0.663</td>\n      <td>0.374</td>\n      <td>False</td>\n      <td>False</td>\n      <td>...</td>\n      <td>0.686</td>\n      <td>0.210</td>\n      <td>False</td>\n      <td>False</td>\n      <td>0.165605</td>\n      <td>0.772176</td>\n      <td>0.000000</td>\n      <td>0.500000</td>\n      <td>0.0</td>\n      <td>0.5</td>\n    </tr>\n    <tr>\n      <th>243771</th>\n      <td>Pass</td>\n      <td>94891</td>\n      <td>297</td>\n      <td>1</td>\n      <td>0.652</td>\n      <td>0.458</td>\n      <td>0.680</td>\n      <td>0.875</td>\n      <td>False</td>\n      <td>False</td>\n      <td>...</td>\n      <td>0.652</td>\n      <td>0.458</td>\n      <td>False</td>\n      <td>False</td>\n      <td>0.417939</td>\n      <td>0.739329</td>\n      <td>0.000000</td>\n      <td>0.500000</td>\n      <td>0.0</td>\n      <td>0.5</td>\n    </tr>\n    <tr>\n      <th>243772</th>\n      <td>Pass</td>\n      <td>125793</td>\n      <td>297</td>\n      <td>0</td>\n      <td>0.692</td>\n      <td>0.947</td>\n      <td>0.961</td>\n      <td>0.555</td>\n      <td>False</td>\n      <td>False</td>\n      <td>...</td>\n      <td>0.692</td>\n      <td>0.947</td>\n      <td>False</td>\n      <td>False</td>\n      <td>0.475421</td>\n      <td>0.345719</td>\n      <td>0.611485</td>\n      <td>0.144929</td>\n      <td>0.0</td>\n      <td>0.5</td>\n    </tr>\n    <tr>\n      <th>243773</th>\n      <td>Pass</td>\n      <td>32381</td>\n      <td>108</td>\n      <td>0</td>\n      <td>0.150</td>\n      <td>0.484</td>\n      <td>0.727</td>\n      <td>0.603</td>\n      <td>False</td>\n      <td>False</td>\n      <td>...</td>\n      <td>0.150</td>\n      <td>0.484</td>\n      <td>False</td>\n      <td>False</td>\n      <td>0.589143</td>\n      <td>0.532370</td>\n      <td>0.479416</td>\n      <td>0.471969</td>\n      <td>0.0</td>\n      <td>0.5</td>\n    </tr>\n    <tr>\n      <th>243774</th>\n      <td>Pass</td>\n      <td>291653</td>\n      <td>108</td>\n      <td>1</td>\n      <td>0.622</td>\n      <td>0.400</td>\n      <td>0.680</td>\n      <td>0.581</td>\n      <td>False</td>\n      <td>False</td>\n      <td>...</td>\n      <td>0.622</td>\n      <td>0.400</td>\n      <td>False</td>\n      <td>False</td>\n      <td>0.190066</td>\n      <td>0.700645</td>\n      <td>0.000000</td>\n      <td>0.500000</td>\n      <td>0.0</td>\n      <td>0.5</td>\n    </tr>\n  </tbody>\n</table>\n<p>243775 rows × 33 columns</p>\n</div>"
     },
     "metadata": {},
     "execution_count": 6
    }
   ],
   "source": [
    "df"
   ]
  },
  {
   "source": [
    "# Saving"
   ],
   "cell_type": "markdown",
   "metadata": {}
  },
  {
   "cell_type": "code",
   "execution_count": 7,
   "metadata": {},
   "outputs": [],
   "source": [
    "df.to_csv('data/formated_data.csv')"
   ]
  }
 ]
}